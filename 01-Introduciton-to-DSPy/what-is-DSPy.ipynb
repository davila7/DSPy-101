{
 "cells": [
  {
   "cell_type": "markdown",
   "metadata": {},
   "source": [
    "## What is DSPy?\n",
    "\n",
    "DSPy (Declarative Self-improving Language Programs) is a Python framework that automates the optimization of language model prompts and weights. It separates program structure from parameters, using smart optimizers to compile programs into optimized instructions or weight updates. This approach enhances AI system reliability and performance while minimizing manual prompt engineering for various language tasks."
   ]
  },
  {
   "cell_type": "markdown",
   "metadata": {},
   "source": [
    "# Install DSPy\n",
    "\n",
    "pip install dspy-ai"
   ]
  },
  {
   "cell_type": "code",
   "execution_count": 26,
   "metadata": {},
   "outputs": [
    {
     "name": "stdout",
     "output_type": "stream",
     "text": [
      "Executing ChainOfThought module...\n",
      "\n",
      "Question: What is the capital of France?\n",
      "Answer: The capital of France is Paris.\n"
     ]
    }
   ],
   "source": [
    "# Import necessary libraries\n",
    "import dspy\n",
    "import os\n",
    "from dotenv import load_dotenv\n",
    "\n",
    "load_dotenv()\n",
    "\n",
    "OPENAI_API_KEY = os.getenv(\"OPENAI_API_KEY\")\n",
    "\n",
    "# Basic example of using DSPy\n",
    "def basic_dspy_example():\n",
    "    # Configure a language model (e.g., GPT-3.5-turbo)\n",
    "    gpt3_turbo = dspy.OpenAI(model='gpt-3.5-turbo', api_key=OPENAI_API_KEY)\n",
    "    dspy.configure(lm=gpt3_turbo)\n",
    "    \n",
    "    # Define a simple question-answering module\n",
    "    qa = dspy.ChainOfThought('question -> answer')\n",
    "\n",
    "    question=\"What is the capital of France?\"\n",
    "\n",
    "    # Module execution with logging\n",
    "    print(\"Executing ChainOfThought module...\")\n",
    "    with dspy.context(log_level='DEBUG'):\n",
    "        response = qa(question=question)\n",
    "    \n",
    "    print(\"\\nQuestion:\", question)\n",
    "    print(f\"Answer: {response.answer}\")\n",
    "\n",
    "# Run the example\n",
    "basic_dspy_example()"
   ]
  }
 ],
 "metadata": {
  "kernelspec": {
   "display_name": "Python 3",
   "language": "python",
   "name": "python3"
  },
  "language_info": {
   "codemirror_mode": {
    "name": "ipython",
    "version": 3
   },
   "file_extension": ".py",
   "mimetype": "text/x-python",
   "name": "python",
   "nbconvert_exporter": "python",
   "pygments_lexer": "ipython3",
   "version": "3.11.7"
  }
 },
 "nbformat": 4,
 "nbformat_minor": 2
}
